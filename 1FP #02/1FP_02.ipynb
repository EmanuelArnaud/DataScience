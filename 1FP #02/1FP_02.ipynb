{
  "nbformat": 4,
  "nbformat_minor": 0,
  "metadata": {
    "colab": {
      "name": "1FP #02.ipynb",
      "provenance": [],
      "toc_visible": true
    },
    "kernelspec": {
      "name": "python3",
      "display_name": "Python 3"
    }
  },
  "cells": [
    {
      "cell_type": "code",
      "metadata": {
        "id": "F0likh8W8V_Z"
      },
      "source": [
        ""
      ],
      "execution_count": 1,
      "outputs": []
    },
    {
      "cell_type": "markdown",
      "metadata": {
        "id": "w5jSyafDtAG5"
      },
      "source": [
        "# One Figure Project #02"
      ]
    },
    {
      "cell_type": "markdown",
      "metadata": {
        "id": "aK5hRWJYD0Gf"
      },
      "source": [
        "## About the project"
      ]
    },
    {
      "cell_type": "markdown",
      "metadata": {
        "id": "LW3_e6F42Rtx"
      },
      "source": [
        "### Author"
      ]
    },
    {
      "cell_type": "markdown",
      "metadata": {
        "id": "tChpoy348Q-s"
      },
      "source": [
        "#### Emanuel Arnaud Neves"
      ]
    },
    {
      "cell_type": "markdown",
      "metadata": {
        "id": "adf7JQGb72IR"
      },
      "source": [
        "Graduating in Statistics at Universidade Federal do Rio Grande do Norte (UFRN). Technical in Computing by the Instituto Federal de Educação, Ciência e Tecnologia do Rio Grande do Norte (IFRN). Student at Programa Talento Metrópole no IMD/UFRN. Student in Programa de Educação Tutorial (PET) - Statistics by the UFRN."
      ]
    },
    {
      "cell_type": "markdown",
      "metadata": {
        "id": "-_1DgBqK12_a"
      },
      "source": [
        "### Activity"
      ]
    },
    {
      "cell_type": "markdown",
      "metadata": {
        "id": "PN6-pZHA14ip"
      },
      "source": [
        "This activity was solicited to the course of Data Science I at the Instituto Metrópole Digital, part of the Universidade Federal do Rio Grande do Norte, in Natal, Brazil, with the purpose of practicing the initial knowledge about Data Science in a recent application, stimulating creativity and creating a professional portfolio."
      ]
    },
    {
      "cell_type": "markdown",
      "metadata": {
        "id": "fnAUslO51vKs"
      },
      "source": [
        "#### Objective"
      ]
    },
    {
      "cell_type": "markdown",
      "metadata": {
        "id": "U7GRRZuu1efq"
      },
      "source": [
        "Observe trends in the reviews of aplications in the digital distribution service [Google Play Store](https://play.google.com/store). For that purpose, the dataset [Google Play Store Apps](https://www.kaggle.com/lava18/google-play-store-apps) will be used."
      ]
    },
    {
      "cell_type": "markdown",
      "metadata": {
        "id": "k4x9wxaBH5gF"
      },
      "source": [
        "## Methods"
      ]
    },
    {
      "cell_type": "markdown",
      "metadata": {
        "id": "c5jIt_T-H7FY"
      },
      "source": [
        "We are going to work in this project with [Python](https://www.python.org) using [Google Colab](https://colab.research.google.com). With data manipulation and visualization, we can hypothesize trends for the dataset."
      ]
    },
    {
      "cell_type": "markdown",
      "metadata": {
        "id": "Lz0kJrKu2Vf2"
      },
      "source": [
        "## Solving"
      ]
    },
    {
      "cell_type": "markdown",
      "metadata": {
        "id": "zHV1oPzSvt3n"
      },
      "source": [
        "### Setting the environment"
      ]
    },
    {
      "cell_type": "markdown",
      "metadata": {
        "id": "RaIlrJILAl_6"
      },
      "source": [
        "The packages used in this project are:\n",
        "\n",
        "*   **google.colab**: files manipulation in Google Colab;\n",
        "*   **Kaggle**: import the dataset from the Kaggle website;\n",
        "*   **pandas**: dataset manipulations;\n",
        "*   **NumPy**: deal with mathematical operations;\n",
        "*   **Pyplot**: create graphics and tables.\n",
        "\n"
      ]
    },
    {
      "cell_type": "markdown",
      "metadata": {
        "id": "V_4_LHJiDKu4"
      },
      "source": [
        "Here we will set up the kaggle package."
      ]
    },
    {
      "cell_type": "code",
      "metadata": {
        "id": "DyAQuFICB3Yt",
        "outputId": "41da4c24-afe2-4857-b718-7bd16277cd78",
        "colab": {
          "base_uri": "https://localhost:8080/",
          "height": 221
        }
      },
      "source": [
        "!pip install kaggle"
      ],
      "execution_count": 2,
      "outputs": [
        {
          "output_type": "stream",
          "text": [
            "Requirement already satisfied: kaggle in /usr/local/lib/python3.6/dist-packages (1.5.8)\n",
            "Requirement already satisfied: tqdm in /usr/local/lib/python3.6/dist-packages (from kaggle) (4.41.1)\n",
            "Requirement already satisfied: requests in /usr/local/lib/python3.6/dist-packages (from kaggle) (2.23.0)\n",
            "Requirement already satisfied: certifi in /usr/local/lib/python3.6/dist-packages (from kaggle) (2020.6.20)\n",
            "Requirement already satisfied: python-slugify in /usr/local/lib/python3.6/dist-packages (from kaggle) (4.0.1)\n",
            "Requirement already satisfied: six>=1.10 in /usr/local/lib/python3.6/dist-packages (from kaggle) (1.15.0)\n",
            "Requirement already satisfied: python-dateutil in /usr/local/lib/python3.6/dist-packages (from kaggle) (2.8.1)\n",
            "Requirement already satisfied: urllib3<1.25,>=1.21.1 in /usr/local/lib/python3.6/dist-packages (from kaggle) (1.24.3)\n",
            "Requirement already satisfied: slugify in /usr/local/lib/python3.6/dist-packages (from kaggle) (0.0.1)\n",
            "Requirement already satisfied: chardet<4,>=3.0.2 in /usr/local/lib/python3.6/dist-packages (from requests->kaggle) (3.0.4)\n",
            "Requirement already satisfied: idna<3,>=2.5 in /usr/local/lib/python3.6/dist-packages (from requests->kaggle) (2.10)\n",
            "Requirement already satisfied: text-unidecode>=1.3 in /usr/local/lib/python3.6/dist-packages (from python-slugify->kaggle) (1.3)\n"
          ],
          "name": "stdout"
        }
      ]
    },
    {
      "cell_type": "code",
      "metadata": {
        "id": "GysO9v_eDBqQ",
        "outputId": "0acdd3eb-465c-4c3c-8f54-0ee705d8c733",
        "colab": {
          "resources": {
            "http://localhost:8080/nbextensions/google.colab/files.js": {
              "data": "Ly8gQ29weXJpZ2h0IDIwMTcgR29vZ2xlIExMQwovLwovLyBMaWNlbnNlZCB1bmRlciB0aGUgQXBhY2hlIExpY2Vuc2UsIFZlcnNpb24gMi4wICh0aGUgIkxpY2Vuc2UiKTsKLy8geW91IG1heSBub3QgdXNlIHRoaXMgZmlsZSBleGNlcHQgaW4gY29tcGxpYW5jZSB3aXRoIHRoZSBMaWNlbnNlLgovLyBZb3UgbWF5IG9idGFpbiBhIGNvcHkgb2YgdGhlIExpY2Vuc2UgYXQKLy8KLy8gICAgICBodHRwOi8vd3d3LmFwYWNoZS5vcmcvbGljZW5zZXMvTElDRU5TRS0yLjAKLy8KLy8gVW5sZXNzIHJlcXVpcmVkIGJ5IGFwcGxpY2FibGUgbGF3IG9yIGFncmVlZCB0byBpbiB3cml0aW5nLCBzb2Z0d2FyZQovLyBkaXN0cmlidXRlZCB1bmRlciB0aGUgTGljZW5zZSBpcyBkaXN0cmlidXRlZCBvbiBhbiAiQVMgSVMiIEJBU0lTLAovLyBXSVRIT1VUIFdBUlJBTlRJRVMgT1IgQ09ORElUSU9OUyBPRiBBTlkgS0lORCwgZWl0aGVyIGV4cHJlc3Mgb3IgaW1wbGllZC4KLy8gU2VlIHRoZSBMaWNlbnNlIGZvciB0aGUgc3BlY2lmaWMgbGFuZ3VhZ2UgZ292ZXJuaW5nIHBlcm1pc3Npb25zIGFuZAovLyBsaW1pdGF0aW9ucyB1bmRlciB0aGUgTGljZW5zZS4KCi8qKgogKiBAZmlsZW92ZXJ2aWV3IEhlbHBlcnMgZm9yIGdvb2dsZS5jb2xhYiBQeXRob24gbW9kdWxlLgogKi8KKGZ1bmN0aW9uKHNjb3BlKSB7CmZ1bmN0aW9uIHNwYW4odGV4dCwgc3R5bGVBdHRyaWJ1dGVzID0ge30pIHsKICBjb25zdCBlbGVtZW50ID0gZG9jdW1lbnQuY3JlYXRlRWxlbWVudCgnc3BhbicpOwogIGVsZW1lbnQudGV4dENvbnRlbnQgPSB0ZXh0OwogIGZvciAoY29uc3Qga2V5IG9mIE9iamVjdC5rZXlzKHN0eWxlQXR0cmlidXRlcykpIHsKICAgIGVsZW1lbnQuc3R5bGVba2V5XSA9IHN0eWxlQXR0cmlidXRlc1trZXldOwogIH0KICByZXR1cm4gZWxlbWVudDsKfQoKLy8gTWF4IG51bWJlciBvZiBieXRlcyB3aGljaCB3aWxsIGJlIHVwbG9hZGVkIGF0IGEgdGltZS4KY29uc3QgTUFYX1BBWUxPQURfU0laRSA9IDEwMCAqIDEwMjQ7CgpmdW5jdGlvbiBfdXBsb2FkRmlsZXMoaW5wdXRJZCwgb3V0cHV0SWQpIHsKICBjb25zdCBzdGVwcyA9IHVwbG9hZEZpbGVzU3RlcChpbnB1dElkLCBvdXRwdXRJZCk7CiAgY29uc3Qgb3V0cHV0RWxlbWVudCA9IGRvY3VtZW50LmdldEVsZW1lbnRCeUlkKG91dHB1dElkKTsKICAvLyBDYWNoZSBzdGVwcyBvbiB0aGUgb3V0cHV0RWxlbWVudCB0byBtYWtlIGl0IGF2YWlsYWJsZSBmb3IgdGhlIG5leHQgY2FsbAogIC8vIHRvIHVwbG9hZEZpbGVzQ29udGludWUgZnJvbSBQeXRob24uCiAgb3V0cHV0RWxlbWVudC5zdGVwcyA9IHN0ZXBzOwoKICByZXR1cm4gX3VwbG9hZEZpbGVzQ29udGludWUob3V0cHV0SWQpOwp9CgovLyBUaGlzIGlzIHJvdWdobHkgYW4gYXN5bmMgZ2VuZXJhdG9yIChub3Qgc3VwcG9ydGVkIGluIHRoZSBicm93c2VyIHlldCksCi8vIHdoZXJlIHRoZXJlIGFyZSBtdWx0aXBsZSBhc3luY2hyb25vdXMgc3RlcHMgYW5kIHRoZSBQeXRob24gc2lkZSBpcyBnb2luZwovLyB0byBwb2xsIGZvciBjb21wbGV0aW9uIG9mIGVhY2ggc3RlcC4KLy8gVGhpcyB1c2VzIGEgUHJvbWlzZSB0byBibG9jayB0aGUgcHl0aG9uIHNpZGUgb24gY29tcGxldGlvbiBvZiBlYWNoIHN0ZXAsCi8vIHRoZW4gcGFzc2VzIHRoZSByZXN1bHQgb2YgdGhlIHByZXZpb3VzIHN0ZXAgYXMgdGhlIGlucHV0IHRvIHRoZSBuZXh0IHN0ZXAuCmZ1bmN0aW9uIF91cGxvYWRGaWxlc0NvbnRpbnVlKG91dHB1dElkKSB7CiAgY29uc3Qgb3V0cHV0RWxlbWVudCA9IGRvY3VtZW50LmdldEVsZW1lbnRCeUlkKG91dHB1dElkKTsKICBjb25zdCBzdGVwcyA9IG91dHB1dEVsZW1lbnQuc3RlcHM7CgogIGNvbnN0IG5leHQgPSBzdGVwcy5uZXh0KG91dHB1dEVsZW1lbnQubGFzdFByb21pc2VWYWx1ZSk7CiAgcmV0dXJuIFByb21pc2UucmVzb2x2ZShuZXh0LnZhbHVlLnByb21pc2UpLnRoZW4oKHZhbHVlKSA9PiB7CiAgICAvLyBDYWNoZSB0aGUgbGFzdCBwcm9taXNlIHZhbHVlIHRvIG1ha2UgaXQgYXZhaWxhYmxlIHRvIHRoZSBuZXh0CiAgICAvLyBzdGVwIG9mIHRoZSBnZW5lcmF0b3IuCiAgICBvdXRwdXRFbGVtZW50Lmxhc3RQcm9taXNlVmFsdWUgPSB2YWx1ZTsKICAgIHJldHVybiBuZXh0LnZhbHVlLnJlc3BvbnNlOwogIH0pOwp9CgovKioKICogR2VuZXJhdG9yIGZ1bmN0aW9uIHdoaWNoIGlzIGNhbGxlZCBiZXR3ZWVuIGVhY2ggYXN5bmMgc3RlcCBvZiB0aGUgdXBsb2FkCiAqIHByb2Nlc3MuCiAqIEBwYXJhbSB7c3RyaW5nfSBpbnB1dElkIEVsZW1lbnQgSUQgb2YgdGhlIGlucHV0IGZpbGUgcGlja2VyIGVsZW1lbnQuCiAqIEBwYXJhbSB7c3RyaW5nfSBvdXRwdXRJZCBFbGVtZW50IElEIG9mIHRoZSBvdXRwdXQgZGlzcGxheS4KICogQHJldHVybiB7IUl0ZXJhYmxlPCFPYmplY3Q+fSBJdGVyYWJsZSBvZiBuZXh0IHN0ZXBzLgogKi8KZnVuY3Rpb24qIHVwbG9hZEZpbGVzU3RlcChpbnB1dElkLCBvdXRwdXRJZCkgewogIGNvbnN0IGlucHV0RWxlbWVudCA9IGRvY3VtZW50LmdldEVsZW1lbnRCeUlkKGlucHV0SWQpOwogIGlucHV0RWxlbWVudC5kaXNhYmxlZCA9IGZhbHNlOwoKICBjb25zdCBvdXRwdXRFbGVtZW50ID0gZG9jdW1lbnQuZ2V0RWxlbWVudEJ5SWQob3V0cHV0SWQpOwogIG91dHB1dEVsZW1lbnQuaW5uZXJIVE1MID0gJyc7CgogIGNvbnN0IHBpY2tlZFByb21pc2UgPSBuZXcgUHJvbWlzZSgocmVzb2x2ZSkgPT4gewogICAgaW5wdXRFbGVtZW50LmFkZEV2ZW50TGlzdGVuZXIoJ2NoYW5nZScsIChlKSA9PiB7CiAgICAgIHJlc29sdmUoZS50YXJnZXQuZmlsZXMpOwogICAgfSk7CiAgfSk7CgogIGNvbnN0IGNhbmNlbCA9IGRvY3VtZW50LmNyZWF0ZUVsZW1lbnQoJ2J1dHRvbicpOwogIGlucHV0RWxlbWVudC5wYXJlbnRFbGVtZW50LmFwcGVuZENoaWxkKGNhbmNlbCk7CiAgY2FuY2VsLnRleHRDb250ZW50ID0gJ0NhbmNlbCB1cGxvYWQnOwogIGNvbnN0IGNhbmNlbFByb21pc2UgPSBuZXcgUHJvbWlzZSgocmVzb2x2ZSkgPT4gewogICAgY2FuY2VsLm9uY2xpY2sgPSAoKSA9PiB7CiAgICAgIHJlc29sdmUobnVsbCk7CiAgICB9OwogIH0pOwoKICAvLyBXYWl0IGZvciB0aGUgdXNlciB0byBwaWNrIHRoZSBmaWxlcy4KICBjb25zdCBmaWxlcyA9IHlpZWxkIHsKICAgIHByb21pc2U6IFByb21pc2UucmFjZShbcGlja2VkUHJvbWlzZSwgY2FuY2VsUHJvbWlzZV0pLAogICAgcmVzcG9uc2U6IHsKICAgICAgYWN0aW9uOiAnc3RhcnRpbmcnLAogICAgfQogIH07CgogIGNhbmNlbC5yZW1vdmUoKTsKCiAgLy8gRGlzYWJsZSB0aGUgaW5wdXQgZWxlbWVudCBzaW5jZSBmdXJ0aGVyIHBpY2tzIGFyZSBub3QgYWxsb3dlZC4KICBpbnB1dEVsZW1lbnQuZGlzYWJsZWQgPSB0cnVlOwoKICBpZiAoIWZpbGVzKSB7CiAgICByZXR1cm4gewogICAgICByZXNwb25zZTogewogICAgICAgIGFjdGlvbjogJ2NvbXBsZXRlJywKICAgICAgfQogICAgfTsKICB9CgogIGZvciAoY29uc3QgZmlsZSBvZiBmaWxlcykgewogICAgY29uc3QgbGkgPSBkb2N1bWVudC5jcmVhdGVFbGVtZW50KCdsaScpOwogICAgbGkuYXBwZW5kKHNwYW4oZmlsZS5uYW1lLCB7Zm9udFdlaWdodDogJ2JvbGQnfSkpOwogICAgbGkuYXBwZW5kKHNwYW4oCiAgICAgICAgYCgke2ZpbGUudHlwZSB8fCAnbi9hJ30pIC0gJHtmaWxlLnNpemV9IGJ5dGVzLCBgICsKICAgICAgICBgbGFzdCBtb2RpZmllZDogJHsKICAgICAgICAgICAgZmlsZS5sYXN0TW9kaWZpZWREYXRlID8gZmlsZS5sYXN0TW9kaWZpZWREYXRlLnRvTG9jYWxlRGF0ZVN0cmluZygpIDoKICAgICAgICAgICAgICAgICAgICAgICAgICAgICAgICAgICAgJ24vYSd9IC0gYCkpOwogICAgY29uc3QgcGVyY2VudCA9IHNwYW4oJzAlIGRvbmUnKTsKICAgIGxpLmFwcGVuZENoaWxkKHBlcmNlbnQpOwoKICAgIG91dHB1dEVsZW1lbnQuYXBwZW5kQ2hpbGQobGkpOwoKICAgIGNvbnN0IGZpbGVEYXRhUHJvbWlzZSA9IG5ldyBQcm9taXNlKChyZXNvbHZlKSA9PiB7CiAgICAgIGNvbnN0IHJlYWRlciA9IG5ldyBGaWxlUmVhZGVyKCk7CiAgICAgIHJlYWRlci5vbmxvYWQgPSAoZSkgPT4gewogICAgICAgIHJlc29sdmUoZS50YXJnZXQucmVzdWx0KTsKICAgICAgfTsKICAgICAgcmVhZGVyLnJlYWRBc0FycmF5QnVmZmVyKGZpbGUpOwogICAgfSk7CiAgICAvLyBXYWl0IGZvciB0aGUgZGF0YSB0byBiZSByZWFkeS4KICAgIGxldCBmaWxlRGF0YSA9IHlpZWxkIHsKICAgICAgcHJvbWlzZTogZmlsZURhdGFQcm9taXNlLAogICAgICByZXNwb25zZTogewogICAgICAgIGFjdGlvbjogJ2NvbnRpbnVlJywKICAgICAgfQogICAgfTsKCiAgICAvLyBVc2UgYSBjaHVua2VkIHNlbmRpbmcgdG8gYXZvaWQgbWVzc2FnZSBzaXplIGxpbWl0cy4gU2VlIGIvNjIxMTU2NjAuCiAgICBsZXQgcG9zaXRpb24gPSAwOwogICAgd2hpbGUgKHBvc2l0aW9uIDwgZmlsZURhdGEuYnl0ZUxlbmd0aCkgewogICAgICBjb25zdCBsZW5ndGggPSBNYXRoLm1pbihmaWxlRGF0YS5ieXRlTGVuZ3RoIC0gcG9zaXRpb24sIE1BWF9QQVlMT0FEX1NJWkUpOwogICAgICBjb25zdCBjaHVuayA9IG5ldyBVaW50OEFycmF5KGZpbGVEYXRhLCBwb3NpdGlvbiwgbGVuZ3RoKTsKICAgICAgcG9zaXRpb24gKz0gbGVuZ3RoOwoKICAgICAgY29uc3QgYmFzZTY0ID0gYnRvYShTdHJpbmcuZnJvbUNoYXJDb2RlLmFwcGx5KG51bGwsIGNodW5rKSk7CiAgICAgIHlpZWxkIHsKICAgICAgICByZXNwb25zZTogewogICAgICAgICAgYWN0aW9uOiAnYXBwZW5kJywKICAgICAgICAgIGZpbGU6IGZpbGUubmFtZSwKICAgICAgICAgIGRhdGE6IGJhc2U2NCwKICAgICAgICB9LAogICAgICB9OwogICAgICBwZXJjZW50LnRleHRDb250ZW50ID0KICAgICAgICAgIGAke01hdGgucm91bmQoKHBvc2l0aW9uIC8gZmlsZURhdGEuYnl0ZUxlbmd0aCkgKiAxMDApfSUgZG9uZWA7CiAgICB9CiAgfQoKICAvLyBBbGwgZG9uZS4KICB5aWVsZCB7CiAgICByZXNwb25zZTogewogICAgICBhY3Rpb246ICdjb21wbGV0ZScsCiAgICB9CiAgfTsKfQoKc2NvcGUuZ29vZ2xlID0gc2NvcGUuZ29vZ2xlIHx8IHt9OwpzY29wZS5nb29nbGUuY29sYWIgPSBzY29wZS5nb29nbGUuY29sYWIgfHwge307CnNjb3BlLmdvb2dsZS5jb2xhYi5fZmlsZXMgPSB7CiAgX3VwbG9hZEZpbGVzLAogIF91cGxvYWRGaWxlc0NvbnRpbnVlLAp9Owp9KShzZWxmKTsK",
              "ok": true,
              "headers": [
                [
                  "content-type",
                  "application/javascript"
                ]
              ],
              "status": 200,
              "status_text": ""
            }
          },
          "base_uri": "https://localhost:8080/",
          "height": 89
        }
      },
      "source": [
        "# Upload the credential file for the kaggle API\n",
        "from google.colab import files\n",
        "files.upload()"
      ],
      "execution_count": 3,
      "outputs": [
        {
          "output_type": "display_data",
          "data": {
            "text/html": [
              "\n",
              "     <input type=\"file\" id=\"files-03b28f48-91b5-4158-86e5-b4d3b6d4a957\" name=\"files[]\" multiple disabled\n",
              "        style=\"border:none\" />\n",
              "     <output id=\"result-03b28f48-91b5-4158-86e5-b4d3b6d4a957\">\n",
              "      Upload widget is only available when the cell has been executed in the\n",
              "      current browser session. Please rerun this cell to enable.\n",
              "      </output>\n",
              "      <script src=\"/nbextensions/google.colab/files.js\"></script> "
            ],
            "text/plain": [
              "<IPython.core.display.HTML object>"
            ]
          },
          "metadata": {
            "tags": []
          }
        },
        {
          "output_type": "stream",
          "text": [
            "Saving kaggle.json to kaggle.json\n"
          ],
          "name": "stdout"
        },
        {
          "output_type": "execute_result",
          "data": {
            "text/plain": [
              "{'kaggle.json': b'{\"username\":\"emanuelarnaud\",\"key\":\"023efd261b8f0cad40cb8dd655d10231\"}'}"
            ]
          },
          "metadata": {
            "tags": []
          },
          "execution_count": 3
        }
      ]
    },
    {
      "cell_type": "code",
      "metadata": {
        "id": "EIOMqNDgEQrc"
      },
      "source": [
        "# Making sure the kaggle.json file uploaded is in the right location for the package\n",
        "!mkdir -p ~/.kaggle\n",
        "!cp kaggle.json ~/.kaggle/\n",
        "!chmod 600 ~/.kaggle/kaggle.json"
      ],
      "execution_count": 4,
      "outputs": []
    },
    {
      "cell_type": "code",
      "metadata": {
        "id": "sK-PRbwNri9y",
        "outputId": "2903a409-6c22-4bc3-e3ab-eb9759074ca1",
        "colab": {
          "base_uri": "https://localhost:8080/",
          "height": 85
        }
      },
      "source": [
        "!pip install colour"
      ],
      "execution_count": 26,
      "outputs": [
        {
          "output_type": "stream",
          "text": [
            "Collecting colour\n",
            "  Downloading https://files.pythonhosted.org/packages/74/46/e81907704ab203206769dee1385dc77e1407576ff8f50a0681d0a6b541be/colour-0.1.5-py2.py3-none-any.whl\n",
            "Installing collected packages: colour\n",
            "Successfully installed colour-0.1.5\n"
          ],
          "name": "stdout"
        }
      ]
    },
    {
      "cell_type": "markdown",
      "metadata": {
        "id": "p2W7NtYSJ_zG"
      },
      "source": [
        "Import the packages."
      ]
    },
    {
      "cell_type": "code",
      "metadata": {
        "id": "Vb6np-oKA2uA"
      },
      "source": [
        "import kaggle\n",
        "import pandas as pd\n",
        "import numpy as np\n",
        "from colour import Color\n",
        "\n",
        "import matplotlib.patheffects as PathEffects\n",
        "import matplotlib.lines as mlines\n",
        "from matplotlib import pyplot as plt"
      ],
      "execution_count": 27,
      "outputs": []
    },
    {
      "cell_type": "code",
      "metadata": {
        "id": "w8I4A7bIFyDI"
      },
      "source": [
        "plt.style.use(\"fivethirtyeight\")  # define the style used by plt in this project"
      ],
      "execution_count": 6,
      "outputs": []
    },
    {
      "cell_type": "markdown",
      "metadata": {
        "id": "6E7Cv7LBKCB5"
      },
      "source": [
        "### Obtaining the data"
      ]
    },
    {
      "cell_type": "markdown",
      "metadata": {
        "id": "aPl0zHtzFifn"
      },
      "source": [
        "Through the Kaggle API, we can download the dataset. "
      ]
    },
    {
      "cell_type": "code",
      "metadata": {
        "id": "7m_BOT6iEZhG"
      },
      "source": [
        "# Connect with the API\n",
        "kaggle.api.authenticate()\n",
        "\n",
        "# Download the data\n",
        "kaggle.api.dataset_download_files(\"lava18/google-play-store-apps\", path=\"./dataset/\", unzip=True)"
      ],
      "execution_count": 7,
      "outputs": []
    },
    {
      "cell_type": "markdown",
      "metadata": {
        "id": "lv6A-SxEu8Y1"
      },
      "source": [
        "Our main dataset contains information about apps available at the Google Play Store."
      ]
    },
    {
      "cell_type": "code",
      "metadata": {
        "id": "IYK1XkE-UO-K",
        "outputId": "a4ee74a1-5968-464e-d471-3ef68e711401",
        "colab": {
          "base_uri": "https://localhost:8080/",
          "height": 289
        }
      },
      "source": [
        "data = pd.read_csv(\"./dataset/googleplaystore.csv\")\n",
        "\n",
        "data.head()"
      ],
      "execution_count": 8,
      "outputs": [
        {
          "output_type": "execute_result",
          "data": {
            "text/html": [
              "<div>\n",
              "<style scoped>\n",
              "    .dataframe tbody tr th:only-of-type {\n",
              "        vertical-align: middle;\n",
              "    }\n",
              "\n",
              "    .dataframe tbody tr th {\n",
              "        vertical-align: top;\n",
              "    }\n",
              "\n",
              "    .dataframe thead th {\n",
              "        text-align: right;\n",
              "    }\n",
              "</style>\n",
              "<table border=\"1\" class=\"dataframe\">\n",
              "  <thead>\n",
              "    <tr style=\"text-align: right;\">\n",
              "      <th></th>\n",
              "      <th>App</th>\n",
              "      <th>Category</th>\n",
              "      <th>Rating</th>\n",
              "      <th>Reviews</th>\n",
              "      <th>Size</th>\n",
              "      <th>Installs</th>\n",
              "      <th>Type</th>\n",
              "      <th>Price</th>\n",
              "      <th>Content Rating</th>\n",
              "      <th>Genres</th>\n",
              "      <th>Last Updated</th>\n",
              "      <th>Current Ver</th>\n",
              "      <th>Android Ver</th>\n",
              "    </tr>\n",
              "  </thead>\n",
              "  <tbody>\n",
              "    <tr>\n",
              "      <th>0</th>\n",
              "      <td>Photo Editor &amp; Candy Camera &amp; Grid &amp; ScrapBook</td>\n",
              "      <td>ART_AND_DESIGN</td>\n",
              "      <td>4.1</td>\n",
              "      <td>159</td>\n",
              "      <td>19M</td>\n",
              "      <td>10,000+</td>\n",
              "      <td>Free</td>\n",
              "      <td>0</td>\n",
              "      <td>Everyone</td>\n",
              "      <td>Art &amp; Design</td>\n",
              "      <td>January 7, 2018</td>\n",
              "      <td>1.0.0</td>\n",
              "      <td>4.0.3 and up</td>\n",
              "    </tr>\n",
              "    <tr>\n",
              "      <th>1</th>\n",
              "      <td>Coloring book moana</td>\n",
              "      <td>ART_AND_DESIGN</td>\n",
              "      <td>3.9</td>\n",
              "      <td>967</td>\n",
              "      <td>14M</td>\n",
              "      <td>500,000+</td>\n",
              "      <td>Free</td>\n",
              "      <td>0</td>\n",
              "      <td>Everyone</td>\n",
              "      <td>Art &amp; Design;Pretend Play</td>\n",
              "      <td>January 15, 2018</td>\n",
              "      <td>2.0.0</td>\n",
              "      <td>4.0.3 and up</td>\n",
              "    </tr>\n",
              "    <tr>\n",
              "      <th>2</th>\n",
              "      <td>U Launcher Lite – FREE Live Cool Themes, Hide ...</td>\n",
              "      <td>ART_AND_DESIGN</td>\n",
              "      <td>4.7</td>\n",
              "      <td>87510</td>\n",
              "      <td>8.7M</td>\n",
              "      <td>5,000,000+</td>\n",
              "      <td>Free</td>\n",
              "      <td>0</td>\n",
              "      <td>Everyone</td>\n",
              "      <td>Art &amp; Design</td>\n",
              "      <td>August 1, 2018</td>\n",
              "      <td>1.2.4</td>\n",
              "      <td>4.0.3 and up</td>\n",
              "    </tr>\n",
              "    <tr>\n",
              "      <th>3</th>\n",
              "      <td>Sketch - Draw &amp; Paint</td>\n",
              "      <td>ART_AND_DESIGN</td>\n",
              "      <td>4.5</td>\n",
              "      <td>215644</td>\n",
              "      <td>25M</td>\n",
              "      <td>50,000,000+</td>\n",
              "      <td>Free</td>\n",
              "      <td>0</td>\n",
              "      <td>Teen</td>\n",
              "      <td>Art &amp; Design</td>\n",
              "      <td>June 8, 2018</td>\n",
              "      <td>Varies with device</td>\n",
              "      <td>4.2 and up</td>\n",
              "    </tr>\n",
              "    <tr>\n",
              "      <th>4</th>\n",
              "      <td>Pixel Draw - Number Art Coloring Book</td>\n",
              "      <td>ART_AND_DESIGN</td>\n",
              "      <td>4.3</td>\n",
              "      <td>967</td>\n",
              "      <td>2.8M</td>\n",
              "      <td>100,000+</td>\n",
              "      <td>Free</td>\n",
              "      <td>0</td>\n",
              "      <td>Everyone</td>\n",
              "      <td>Art &amp; Design;Creativity</td>\n",
              "      <td>June 20, 2018</td>\n",
              "      <td>1.1</td>\n",
              "      <td>4.4 and up</td>\n",
              "    </tr>\n",
              "  </tbody>\n",
              "</table>\n",
              "</div>"
            ],
            "text/plain": [
              "                                                 App  ...   Android Ver\n",
              "0     Photo Editor & Candy Camera & Grid & ScrapBook  ...  4.0.3 and up\n",
              "1                                Coloring book moana  ...  4.0.3 and up\n",
              "2  U Launcher Lite – FREE Live Cool Themes, Hide ...  ...  4.0.3 and up\n",
              "3                              Sketch - Draw & Paint  ...    4.2 and up\n",
              "4              Pixel Draw - Number Art Coloring Book  ...    4.4 and up\n",
              "\n",
              "[5 rows x 13 columns]"
            ]
          },
          "metadata": {
            "tags": []
          },
          "execution_count": 8
        }
      ]
    },
    {
      "cell_type": "markdown",
      "metadata": {
        "id": "O7d-crjRv2FW"
      },
      "source": [
        "There is also a secondary dataset with informations about the reviews for the apps."
      ]
    },
    {
      "cell_type": "code",
      "metadata": {
        "id": "2wbWuz_2KvDm",
        "outputId": "339771f0-09af-4313-c783-025a7d6c37c5",
        "colab": {
          "base_uri": "https://localhost:8080/",
          "height": 221
        }
      },
      "source": [
        "reviews = pd.read_csv(\"./dataset/googleplaystore_user_reviews.csv\")\n",
        "\n",
        "reviews.info()"
      ],
      "execution_count": 9,
      "outputs": [
        {
          "output_type": "stream",
          "text": [
            "<class 'pandas.core.frame.DataFrame'>\n",
            "RangeIndex: 64295 entries, 0 to 64294\n",
            "Data columns (total 5 columns):\n",
            " #   Column                  Non-Null Count  Dtype  \n",
            "---  ------                  --------------  -----  \n",
            " 0   App                     64295 non-null  object \n",
            " 1   Translated_Review       37427 non-null  object \n",
            " 2   Sentiment               37432 non-null  object \n",
            " 3   Sentiment_Polarity      37432 non-null  float64\n",
            " 4   Sentiment_Subjectivity  37432 non-null  float64\n",
            "dtypes: float64(2), object(3)\n",
            "memory usage: 2.5+ MB\n"
          ],
          "name": "stdout"
        }
      ]
    },
    {
      "cell_type": "markdown",
      "metadata": {
        "id": "riksv3lyJ_c0"
      },
      "source": [
        "### Filtering the reviews"
      ]
    },
    {
      "cell_type": "markdown",
      "metadata": {
        "id": "QMHhs-Qh0QLC"
      },
      "source": [
        "The reviews dataset contains a lot of null observations. Since we will work with numeric data and can't identify what is the value of the missing data, it's better to completely drop the observation."
      ]
    },
    {
      "cell_type": "code",
      "metadata": {
        "id": "xRJ-aSAnv9-7",
        "outputId": "ad1062aa-b9ab-47d7-c9a9-f1835d43fb19",
        "colab": {
          "base_uri": "https://localhost:8080/",
          "height": 204
        }
      },
      "source": [
        "# Drop missing data\n",
        "reviews.dropna(inplace=True)\n",
        "\n",
        "reviews.head()"
      ],
      "execution_count": 10,
      "outputs": [
        {
          "output_type": "execute_result",
          "data": {
            "text/html": [
              "<div>\n",
              "<style scoped>\n",
              "    .dataframe tbody tr th:only-of-type {\n",
              "        vertical-align: middle;\n",
              "    }\n",
              "\n",
              "    .dataframe tbody tr th {\n",
              "        vertical-align: top;\n",
              "    }\n",
              "\n",
              "    .dataframe thead th {\n",
              "        text-align: right;\n",
              "    }\n",
              "</style>\n",
              "<table border=\"1\" class=\"dataframe\">\n",
              "  <thead>\n",
              "    <tr style=\"text-align: right;\">\n",
              "      <th></th>\n",
              "      <th>App</th>\n",
              "      <th>Translated_Review</th>\n",
              "      <th>Sentiment</th>\n",
              "      <th>Sentiment_Polarity</th>\n",
              "      <th>Sentiment_Subjectivity</th>\n",
              "    </tr>\n",
              "  </thead>\n",
              "  <tbody>\n",
              "    <tr>\n",
              "      <th>0</th>\n",
              "      <td>10 Best Foods for You</td>\n",
              "      <td>I like eat delicious food. That's I'm cooking ...</td>\n",
              "      <td>Positive</td>\n",
              "      <td>1.00</td>\n",
              "      <td>0.533333</td>\n",
              "    </tr>\n",
              "    <tr>\n",
              "      <th>1</th>\n",
              "      <td>10 Best Foods for You</td>\n",
              "      <td>This help eating healthy exercise regular basis</td>\n",
              "      <td>Positive</td>\n",
              "      <td>0.25</td>\n",
              "      <td>0.288462</td>\n",
              "    </tr>\n",
              "    <tr>\n",
              "      <th>3</th>\n",
              "      <td>10 Best Foods for You</td>\n",
              "      <td>Works great especially going grocery store</td>\n",
              "      <td>Positive</td>\n",
              "      <td>0.40</td>\n",
              "      <td>0.875000</td>\n",
              "    </tr>\n",
              "    <tr>\n",
              "      <th>4</th>\n",
              "      <td>10 Best Foods for You</td>\n",
              "      <td>Best idea us</td>\n",
              "      <td>Positive</td>\n",
              "      <td>1.00</td>\n",
              "      <td>0.300000</td>\n",
              "    </tr>\n",
              "    <tr>\n",
              "      <th>5</th>\n",
              "      <td>10 Best Foods for You</td>\n",
              "      <td>Best way</td>\n",
              "      <td>Positive</td>\n",
              "      <td>1.00</td>\n",
              "      <td>0.300000</td>\n",
              "    </tr>\n",
              "  </tbody>\n",
              "</table>\n",
              "</div>"
            ],
            "text/plain": [
              "                     App  ... Sentiment_Subjectivity\n",
              "0  10 Best Foods for You  ...               0.533333\n",
              "1  10 Best Foods for You  ...               0.288462\n",
              "3  10 Best Foods for You  ...               0.875000\n",
              "4  10 Best Foods for You  ...               0.300000\n",
              "5  10 Best Foods for You  ...               0.300000\n",
              "\n",
              "[5 rows x 5 columns]"
            ]
          },
          "metadata": {
            "tags": []
          },
          "execution_count": 10
        }
      ]
    },
    {
      "cell_type": "markdown",
      "metadata": {
        "id": "q9ytuDA90uDn"
      },
      "source": [
        "The column Translated Review won't be used in this project, so we can drop it. Also, the names of the column can be optmized."
      ]
    },
    {
      "cell_type": "code",
      "metadata": {
        "id": "LO2fDqK3xAvX",
        "outputId": "2d07702c-4f83-4cea-976b-41738cc89f43",
        "colab": {
          "base_uri": "https://localhost:8080/",
          "height": 204
        }
      },
      "source": [
        "# Drop the column\n",
        "reviews.drop(\"Translated_Review\", axis=1, inplace=True)\n",
        "\n",
        "# Rename the rest\n",
        "reviews.columns = [\"App\", \"Sentiment\", \"Polarity\", \"Subjectivity\"]\n",
        "\n",
        "reviews.head()"
      ],
      "execution_count": 11,
      "outputs": [
        {
          "output_type": "execute_result",
          "data": {
            "text/html": [
              "<div>\n",
              "<style scoped>\n",
              "    .dataframe tbody tr th:only-of-type {\n",
              "        vertical-align: middle;\n",
              "    }\n",
              "\n",
              "    .dataframe tbody tr th {\n",
              "        vertical-align: top;\n",
              "    }\n",
              "\n",
              "    .dataframe thead th {\n",
              "        text-align: right;\n",
              "    }\n",
              "</style>\n",
              "<table border=\"1\" class=\"dataframe\">\n",
              "  <thead>\n",
              "    <tr style=\"text-align: right;\">\n",
              "      <th></th>\n",
              "      <th>App</th>\n",
              "      <th>Sentiment</th>\n",
              "      <th>Polarity</th>\n",
              "      <th>Subjectivity</th>\n",
              "    </tr>\n",
              "  </thead>\n",
              "  <tbody>\n",
              "    <tr>\n",
              "      <th>0</th>\n",
              "      <td>10 Best Foods for You</td>\n",
              "      <td>Positive</td>\n",
              "      <td>1.00</td>\n",
              "      <td>0.533333</td>\n",
              "    </tr>\n",
              "    <tr>\n",
              "      <th>1</th>\n",
              "      <td>10 Best Foods for You</td>\n",
              "      <td>Positive</td>\n",
              "      <td>0.25</td>\n",
              "      <td>0.288462</td>\n",
              "    </tr>\n",
              "    <tr>\n",
              "      <th>3</th>\n",
              "      <td>10 Best Foods for You</td>\n",
              "      <td>Positive</td>\n",
              "      <td>0.40</td>\n",
              "      <td>0.875000</td>\n",
              "    </tr>\n",
              "    <tr>\n",
              "      <th>4</th>\n",
              "      <td>10 Best Foods for You</td>\n",
              "      <td>Positive</td>\n",
              "      <td>1.00</td>\n",
              "      <td>0.300000</td>\n",
              "    </tr>\n",
              "    <tr>\n",
              "      <th>5</th>\n",
              "      <td>10 Best Foods for You</td>\n",
              "      <td>Positive</td>\n",
              "      <td>1.00</td>\n",
              "      <td>0.300000</td>\n",
              "    </tr>\n",
              "  </tbody>\n",
              "</table>\n",
              "</div>"
            ],
            "text/plain": [
              "                     App Sentiment  Polarity  Subjectivity\n",
              "0  10 Best Foods for You  Positive      1.00      0.533333\n",
              "1  10 Best Foods for You  Positive      0.25      0.288462\n",
              "3  10 Best Foods for You  Positive      0.40      0.875000\n",
              "4  10 Best Foods for You  Positive      1.00      0.300000\n",
              "5  10 Best Foods for You  Positive      1.00      0.300000"
            ]
          },
          "metadata": {
            "tags": []
          },
          "execution_count": 11
        }
      ]
    },
    {
      "cell_type": "markdown",
      "metadata": {
        "id": "q88IOoQkKE8S"
      },
      "source": [
        "### Transforming"
      ]
    },
    {
      "cell_type": "code",
      "metadata": {
        "id": "t_x2EWBExzOO",
        "outputId": "91b210d0-3809-4752-e902-f3ea198f0a6d",
        "colab": {
          "base_uri": "https://localhost:8080/",
          "height": 34
        }
      },
      "source": [
        "# Obtain the values of Sentiment without repeating\n",
        "reviews.Sentiment.unique()"
      ],
      "execution_count": 12,
      "outputs": [
        {
          "output_type": "execute_result",
          "data": {
            "text/plain": [
              "array(['Positive', 'Neutral', 'Negative'], dtype=object)"
            ]
          },
          "metadata": {
            "tags": []
          },
          "execution_count": 12
        }
      ]
    },
    {
      "cell_type": "markdown",
      "metadata": {
        "id": "NtBrqIOo1eHh"
      },
      "source": [
        "As we can see above, the Sentiment column assumes three values: negative, neutral and positive. Knowing this, we can apply a Likert scale to evaluate this information as numeric values.\n",
        "\n",
        "For this project, the Likert scale will be: -1 for negative, 0 for neutral and 1 for positive. This way, when calculating the mean we obtain a number between -1 and 1 where higher values implies more positive reviews, lower values more negative reviews and closer to zero neutrals."
      ]
    },
    {
      "cell_type": "code",
      "metadata": {
        "id": "o2HW1whj2cg1",
        "outputId": "8081badd-5d5e-4ee7-e81a-e4c3ed1cb2bf",
        "colab": {
          "base_uri": "https://localhost:8080/",
          "height": 204
        }
      },
      "source": [
        "# Create the Likert scale\n",
        "likert = {\n",
        "    \"Negative\": -1,\n",
        "    \"Neutral\": 0,\n",
        "    \"Positive\": 1\n",
        "}\n",
        "\n",
        "# Mutate the Sentiment column to match the value for the Likert scale\n",
        "reviews.Sentiment = reviews.Sentiment.apply(lambda x: likert[x]).copy()\n",
        "reviews.head()"
      ],
      "execution_count": 13,
      "outputs": [
        {
          "output_type": "execute_result",
          "data": {
            "text/html": [
              "<div>\n",
              "<style scoped>\n",
              "    .dataframe tbody tr th:only-of-type {\n",
              "        vertical-align: middle;\n",
              "    }\n",
              "\n",
              "    .dataframe tbody tr th {\n",
              "        vertical-align: top;\n",
              "    }\n",
              "\n",
              "    .dataframe thead th {\n",
              "        text-align: right;\n",
              "    }\n",
              "</style>\n",
              "<table border=\"1\" class=\"dataframe\">\n",
              "  <thead>\n",
              "    <tr style=\"text-align: right;\">\n",
              "      <th></th>\n",
              "      <th>App</th>\n",
              "      <th>Sentiment</th>\n",
              "      <th>Polarity</th>\n",
              "      <th>Subjectivity</th>\n",
              "    </tr>\n",
              "  </thead>\n",
              "  <tbody>\n",
              "    <tr>\n",
              "      <th>0</th>\n",
              "      <td>10 Best Foods for You</td>\n",
              "      <td>1</td>\n",
              "      <td>1.00</td>\n",
              "      <td>0.533333</td>\n",
              "    </tr>\n",
              "    <tr>\n",
              "      <th>1</th>\n",
              "      <td>10 Best Foods for You</td>\n",
              "      <td>1</td>\n",
              "      <td>0.25</td>\n",
              "      <td>0.288462</td>\n",
              "    </tr>\n",
              "    <tr>\n",
              "      <th>3</th>\n",
              "      <td>10 Best Foods for You</td>\n",
              "      <td>1</td>\n",
              "      <td>0.40</td>\n",
              "      <td>0.875000</td>\n",
              "    </tr>\n",
              "    <tr>\n",
              "      <th>4</th>\n",
              "      <td>10 Best Foods for You</td>\n",
              "      <td>1</td>\n",
              "      <td>1.00</td>\n",
              "      <td>0.300000</td>\n",
              "    </tr>\n",
              "    <tr>\n",
              "      <th>5</th>\n",
              "      <td>10 Best Foods for You</td>\n",
              "      <td>1</td>\n",
              "      <td>1.00</td>\n",
              "      <td>0.300000</td>\n",
              "    </tr>\n",
              "  </tbody>\n",
              "</table>\n",
              "</div>"
            ],
            "text/plain": [
              "                     App  Sentiment  Polarity  Subjectivity\n",
              "0  10 Best Foods for You          1      1.00      0.533333\n",
              "1  10 Best Foods for You          1      0.25      0.288462\n",
              "3  10 Best Foods for You          1      0.40      0.875000\n",
              "4  10 Best Foods for You          1      1.00      0.300000\n",
              "5  10 Best Foods for You          1      1.00      0.300000"
            ]
          },
          "metadata": {
            "tags": []
          },
          "execution_count": 13
        }
      ]
    },
    {
      "cell_type": "markdown",
      "metadata": {
        "id": "H35j6O2z5Cwi"
      },
      "source": [
        "Now, we can calculate the mean for each app."
      ]
    },
    {
      "cell_type": "code",
      "metadata": {
        "id": "mDB1bG474_po",
        "outputId": "c3270ff9-f16d-4cf1-8d81-568c90be7c62",
        "colab": {
          "base_uri": "https://localhost:8080/",
          "height": 187
        }
      },
      "source": [
        "# Here, we obtain the mean for each app by grouping the data\n",
        "reviews_mean = reviews.groupby(\"App\").mean().copy()\n",
        "\n",
        "reviews_mean.info()"
      ],
      "execution_count": 14,
      "outputs": [
        {
          "output_type": "stream",
          "text": [
            "<class 'pandas.core.frame.DataFrame'>\n",
            "Index: 865 entries, 10 Best Foods for You to Housing-Real Estate & Property\n",
            "Data columns (total 3 columns):\n",
            " #   Column        Non-Null Count  Dtype  \n",
            "---  ------        --------------  -----  \n",
            " 0   Sentiment     865 non-null    float64\n",
            " 1   Polarity      865 non-null    float64\n",
            " 2   Subjectivity  865 non-null    float64\n",
            "dtypes: float64(3)\n",
            "memory usage: 27.0+ KB\n"
          ],
          "name": "stdout"
        }
      ]
    },
    {
      "cell_type": "markdown",
      "metadata": {
        "id": "obWK2fxCKJJX"
      },
      "source": [
        "### Combining the datasets"
      ]
    },
    {
      "cell_type": "markdown",
      "metadata": {
        "id": "_sTa0p_5KPgW"
      },
      "source": [
        "The function merge will do almost entirely the work needed. The common column is the app name, which is the index of reviews_mean. As the index kept the name \"App\", the function can still acess it. The default \"inner\" method will keep only the observations with values in both datasets."
      ]
    },
    {
      "cell_type": "code",
      "metadata": {
        "id": "rwDSe5b86udr",
        "outputId": "742709f8-0a45-4edc-9c44-95d719c92cf2",
        "colab": {
          "base_uri": "https://localhost:8080/",
          "height": 408
        }
      },
      "source": [
        "complete_data = pd.merge(left=data, right=reviews_mean, on=\"App\").copy()\n",
        "\n",
        "complete_data.info()"
      ],
      "execution_count": 15,
      "outputs": [
        {
          "output_type": "stream",
          "text": [
            "<class 'pandas.core.frame.DataFrame'>\n",
            "Int64Index: 1229 entries, 0 to 1228\n",
            "Data columns (total 16 columns):\n",
            " #   Column          Non-Null Count  Dtype  \n",
            "---  ------          --------------  -----  \n",
            " 0   App             1229 non-null   object \n",
            " 1   Category        1229 non-null   object \n",
            " 2   Rating          1228 non-null   float64\n",
            " 3   Reviews         1229 non-null   object \n",
            " 4   Size            1229 non-null   object \n",
            " 5   Installs        1229 non-null   object \n",
            " 6   Type            1229 non-null   object \n",
            " 7   Price           1229 non-null   object \n",
            " 8   Content Rating  1229 non-null   object \n",
            " 9   Genres          1229 non-null   object \n",
            " 10  Last Updated    1229 non-null   object \n",
            " 11  Current Ver     1229 non-null   object \n",
            " 12  Android Ver     1229 non-null   object \n",
            " 13  Sentiment       1229 non-null   float64\n",
            " 14  Polarity        1229 non-null   float64\n",
            " 15  Subjectivity    1229 non-null   float64\n",
            "dtypes: float64(4), object(12)\n",
            "memory usage: 163.2+ KB\n"
          ],
          "name": "stdout"
        }
      ]
    },
    {
      "cell_type": "markdown",
      "metadata": {
        "id": "XA_yo7z5K7QO"
      },
      "source": [
        "As we can see above, the resulting dataset have 1229 observations in comparison with the 865 observations of reviews_mean. This mean that for some reason, there are apps in our dataset with multiple appearances. Dropping duplicates will ensure there are only one observation for each app."
      ]
    },
    {
      "cell_type": "code",
      "metadata": {
        "id": "EIx2-0uvGCna",
        "outputId": "aef6819d-baf2-4447-8247-2c53cda17497",
        "colab": {
          "base_uri": "https://localhost:8080/",
          "height": 691
        }
      },
      "source": [
        "# Drop duplicates\n",
        "complete_data.drop_duplicates(\"App\", inplace=True)\n",
        "\n",
        "# Reset the index since now we have a different number of observations\n",
        "complete_data = complete_data.reset_index().drop(\"index\", axis=1).copy()\n",
        "\n",
        "complete_data"
      ],
      "execution_count": 16,
      "outputs": [
        {
          "output_type": "execute_result",
          "data": {
            "text/html": [
              "<div>\n",
              "<style scoped>\n",
              "    .dataframe tbody tr th:only-of-type {\n",
              "        vertical-align: middle;\n",
              "    }\n",
              "\n",
              "    .dataframe tbody tr th {\n",
              "        vertical-align: top;\n",
              "    }\n",
              "\n",
              "    .dataframe thead th {\n",
              "        text-align: right;\n",
              "    }\n",
              "</style>\n",
              "<table border=\"1\" class=\"dataframe\">\n",
              "  <thead>\n",
              "    <tr style=\"text-align: right;\">\n",
              "      <th></th>\n",
              "      <th>App</th>\n",
              "      <th>Category</th>\n",
              "      <th>Rating</th>\n",
              "      <th>Reviews</th>\n",
              "      <th>Size</th>\n",
              "      <th>Installs</th>\n",
              "      <th>Type</th>\n",
              "      <th>Price</th>\n",
              "      <th>Content Rating</th>\n",
              "      <th>Genres</th>\n",
              "      <th>Last Updated</th>\n",
              "      <th>Current Ver</th>\n",
              "      <th>Android Ver</th>\n",
              "      <th>Sentiment</th>\n",
              "      <th>Polarity</th>\n",
              "      <th>Subjectivity</th>\n",
              "    </tr>\n",
              "  </thead>\n",
              "  <tbody>\n",
              "    <tr>\n",
              "      <th>0</th>\n",
              "      <td>Coloring book moana</td>\n",
              "      <td>ART_AND_DESIGN</td>\n",
              "      <td>3.9</td>\n",
              "      <td>967</td>\n",
              "      <td>14M</td>\n",
              "      <td>500,000+</td>\n",
              "      <td>Free</td>\n",
              "      <td>0</td>\n",
              "      <td>Everyone</td>\n",
              "      <td>Art &amp; Design;Pretend Play</td>\n",
              "      <td>January 15, 2018</td>\n",
              "      <td>2.0.0</td>\n",
              "      <td>4.0.3 and up</td>\n",
              "      <td>0.272727</td>\n",
              "      <td>0.152652</td>\n",
              "      <td>0.641540</td>\n",
              "    </tr>\n",
              "    <tr>\n",
              "      <th>1</th>\n",
              "      <td>Garden Coloring Book</td>\n",
              "      <td>ART_AND_DESIGN</td>\n",
              "      <td>4.4</td>\n",
              "      <td>13791</td>\n",
              "      <td>33M</td>\n",
              "      <td>1,000,000+</td>\n",
              "      <td>Free</td>\n",
              "      <td>0</td>\n",
              "      <td>Everyone</td>\n",
              "      <td>Art &amp; Design</td>\n",
              "      <td>September 20, 2017</td>\n",
              "      <td>2.9.2</td>\n",
              "      <td>3.0 and up</td>\n",
              "      <td>0.600000</td>\n",
              "      <td>0.268483</td>\n",
              "      <td>0.523447</td>\n",
              "    </tr>\n",
              "    <tr>\n",
              "      <th>2</th>\n",
              "      <td>FlipaClip - Cartoon animation</td>\n",
              "      <td>ART_AND_DESIGN</td>\n",
              "      <td>4.3</td>\n",
              "      <td>194216</td>\n",
              "      <td>39M</td>\n",
              "      <td>5,000,000+</td>\n",
              "      <td>Free</td>\n",
              "      <td>0</td>\n",
              "      <td>Everyone</td>\n",
              "      <td>Art &amp; Design</td>\n",
              "      <td>August 3, 2018</td>\n",
              "      <td>2.2.5</td>\n",
              "      <td>4.0.3 and up</td>\n",
              "      <td>1.000000</td>\n",
              "      <td>0.412649</td>\n",
              "      <td>0.679226</td>\n",
              "    </tr>\n",
              "    <tr>\n",
              "      <th>3</th>\n",
              "      <td>Boys Photo Editor - Six Pack &amp; Men's Suit</td>\n",
              "      <td>ART_AND_DESIGN</td>\n",
              "      <td>4.1</td>\n",
              "      <td>654</td>\n",
              "      <td>12M</td>\n",
              "      <td>100,000+</td>\n",
              "      <td>Free</td>\n",
              "      <td>0</td>\n",
              "      <td>Everyone</td>\n",
              "      <td>Art &amp; Design</td>\n",
              "      <td>March 20, 2018</td>\n",
              "      <td>1.1</td>\n",
              "      <td>4.0.3 and up</td>\n",
              "      <td>0.473684</td>\n",
              "      <td>0.283509</td>\n",
              "      <td>0.479298</td>\n",
              "    </tr>\n",
              "    <tr>\n",
              "      <th>4</th>\n",
              "      <td>Colorfit - Drawing &amp; Coloring</td>\n",
              "      <td>ART_AND_DESIGN</td>\n",
              "      <td>4.7</td>\n",
              "      <td>20260</td>\n",
              "      <td>25M</td>\n",
              "      <td>500,000+</td>\n",
              "      <td>Free</td>\n",
              "      <td>0</td>\n",
              "      <td>Everyone</td>\n",
              "      <td>Art &amp; Design;Creativity</td>\n",
              "      <td>October 11, 2017</td>\n",
              "      <td>1.0.8</td>\n",
              "      <td>4.0.3 and up</td>\n",
              "      <td>0.552632</td>\n",
              "      <td>0.171836</td>\n",
              "      <td>0.572762</td>\n",
              "    </tr>\n",
              "    <tr>\n",
              "      <th>...</th>\n",
              "      <td>...</td>\n",
              "      <td>...</td>\n",
              "      <td>...</td>\n",
              "      <td>...</td>\n",
              "      <td>...</td>\n",
              "      <td>...</td>\n",
              "      <td>...</td>\n",
              "      <td>...</td>\n",
              "      <td>...</td>\n",
              "      <td>...</td>\n",
              "      <td>...</td>\n",
              "      <td>...</td>\n",
              "      <td>...</td>\n",
              "      <td>...</td>\n",
              "      <td>...</td>\n",
              "      <td>...</td>\n",
              "    </tr>\n",
              "    <tr>\n",
              "      <th>811</th>\n",
              "      <td>AD - Nieuws, Sport, Regio &amp; Entertainment</td>\n",
              "      <td>NEWS_AND_MAGAZINES</td>\n",
              "      <td>3.7</td>\n",
              "      <td>10369</td>\n",
              "      <td>Varies with device</td>\n",
              "      <td>1,000,000+</td>\n",
              "      <td>Free</td>\n",
              "      <td>0</td>\n",
              "      <td>Everyone</td>\n",
              "      <td>News &amp; Magazines</td>\n",
              "      <td>July 28, 2018</td>\n",
              "      <td>Varies with device</td>\n",
              "      <td>Varies with device</td>\n",
              "      <td>0.526316</td>\n",
              "      <td>0.161824</td>\n",
              "      <td>0.465806</td>\n",
              "    </tr>\n",
              "    <tr>\n",
              "      <th>812</th>\n",
              "      <td>AppLock</td>\n",
              "      <td>TOOLS</td>\n",
              "      <td>4.4</td>\n",
              "      <td>4931562</td>\n",
              "      <td>Varies with device</td>\n",
              "      <td>100,000,000+</td>\n",
              "      <td>Free</td>\n",
              "      <td>0</td>\n",
              "      <td>Everyone</td>\n",
              "      <td>Tools</td>\n",
              "      <td>June 11, 2018</td>\n",
              "      <td>Varies with device</td>\n",
              "      <td>Varies with device</td>\n",
              "      <td>-0.076923</td>\n",
              "      <td>0.016233</td>\n",
              "      <td>0.499941</td>\n",
              "    </tr>\n",
              "    <tr>\n",
              "      <th>813</th>\n",
              "      <td>Diary with lock password</td>\n",
              "      <td>LIFESTYLE</td>\n",
              "      <td>4.3</td>\n",
              "      <td>179139</td>\n",
              "      <td>9.7M</td>\n",
              "      <td>5,000,000+</td>\n",
              "      <td>Free</td>\n",
              "      <td>0</td>\n",
              "      <td>Everyone</td>\n",
              "      <td>Lifestyle</td>\n",
              "      <td>November 1, 2017</td>\n",
              "      <td>3.5.3</td>\n",
              "      <td>4.0.3 and up</td>\n",
              "      <td>0.596154</td>\n",
              "      <td>0.292267</td>\n",
              "      <td>0.509656</td>\n",
              "    </tr>\n",
              "    <tr>\n",
              "      <th>814</th>\n",
              "      <td>Avakin Life - 3D virtual world</td>\n",
              "      <td>FAMILY</td>\n",
              "      <td>4.4</td>\n",
              "      <td>1275373</td>\n",
              "      <td>91M</td>\n",
              "      <td>10,000,000+</td>\n",
              "      <td>Free</td>\n",
              "      <td>0</td>\n",
              "      <td>Teen</td>\n",
              "      <td>Role Playing</td>\n",
              "      <td>July 3, 2018</td>\n",
              "      <td>1.021.10</td>\n",
              "      <td>4.1 and up</td>\n",
              "      <td>0.521739</td>\n",
              "      <td>0.080859</td>\n",
              "      <td>0.505326</td>\n",
              "    </tr>\n",
              "    <tr>\n",
              "      <th>815</th>\n",
              "      <td>A+ Gallery - Photos &amp; Videos</td>\n",
              "      <td>PHOTOGRAPHY</td>\n",
              "      <td>4.5</td>\n",
              "      <td>223941</td>\n",
              "      <td>Varies with device</td>\n",
              "      <td>10,000,000+</td>\n",
              "      <td>Free</td>\n",
              "      <td>0</td>\n",
              "      <td>Everyone</td>\n",
              "      <td>Photography</td>\n",
              "      <td>August 6, 2018</td>\n",
              "      <td>Varies with device</td>\n",
              "      <td>Varies with device</td>\n",
              "      <td>0.414634</td>\n",
              "      <td>0.208815</td>\n",
              "      <td>0.402870</td>\n",
              "    </tr>\n",
              "  </tbody>\n",
              "</table>\n",
              "<p>816 rows × 16 columns</p>\n",
              "</div>"
            ],
            "text/plain": [
              "                                           App  ... Subjectivity\n",
              "0                          Coloring book moana  ...     0.641540\n",
              "1                         Garden Coloring Book  ...     0.523447\n",
              "2                FlipaClip - Cartoon animation  ...     0.679226\n",
              "3    Boys Photo Editor - Six Pack & Men's Suit  ...     0.479298\n",
              "4                Colorfit - Drawing & Coloring  ...     0.572762\n",
              "..                                         ...  ...          ...\n",
              "811  AD - Nieuws, Sport, Regio & Entertainment  ...     0.465806\n",
              "812                                    AppLock  ...     0.499941\n",
              "813                   Diary with lock password  ...     0.509656\n",
              "814             Avakin Life - 3D virtual world  ...     0.505326\n",
              "815               A+ Gallery - Photos & Videos  ...     0.402870\n",
              "\n",
              "[816 rows x 16 columns]"
            ]
          },
          "metadata": {
            "tags": []
          },
          "execution_count": 16
        }
      ]
    },
    {
      "cell_type": "markdown",
      "metadata": {
        "id": "lXpt1mYLL5py"
      },
      "source": [
        "### Filtering again"
      ]
    },
    {
      "cell_type": "markdown",
      "metadata": {
        "id": "T9vhEYrV4PTC"
      },
      "source": [
        "Here, we will only select the columns needed and change the value at Installs column to numeric."
      ]
    },
    {
      "cell_type": "code",
      "metadata": {
        "id": "Arn6noawL5U_",
        "outputId": "312d1de4-cdac-4386-ea64-ee35d7170bca",
        "colab": {
          "base_uri": "https://localhost:8080/",
          "height": 204
        }
      },
      "source": [
        "# Select columns that will be used\n",
        "columns = [0, 1, 2, 3, 5, 6, 8, 9, 13, 14, 15]\n",
        "complete_data = complete_data.iloc[:,columns].copy()\n",
        "\n",
        "# Remove the + and the , at the end of each observation of Installs then convert to int\n",
        "complete_data.Installs = [int(obs.replace(\"+\", \"\").replace(\",\", \"\")) for obs in complete_data.Installs]\n",
        "complete_data.head()"
      ],
      "execution_count": 17,
      "outputs": [
        {
          "output_type": "execute_result",
          "data": {
            "text/html": [
              "<div>\n",
              "<style scoped>\n",
              "    .dataframe tbody tr th:only-of-type {\n",
              "        vertical-align: middle;\n",
              "    }\n",
              "\n",
              "    .dataframe tbody tr th {\n",
              "        vertical-align: top;\n",
              "    }\n",
              "\n",
              "    .dataframe thead th {\n",
              "        text-align: right;\n",
              "    }\n",
              "</style>\n",
              "<table border=\"1\" class=\"dataframe\">\n",
              "  <thead>\n",
              "    <tr style=\"text-align: right;\">\n",
              "      <th></th>\n",
              "      <th>App</th>\n",
              "      <th>Category</th>\n",
              "      <th>Rating</th>\n",
              "      <th>Reviews</th>\n",
              "      <th>Installs</th>\n",
              "      <th>Type</th>\n",
              "      <th>Content Rating</th>\n",
              "      <th>Genres</th>\n",
              "      <th>Sentiment</th>\n",
              "      <th>Polarity</th>\n",
              "      <th>Subjectivity</th>\n",
              "    </tr>\n",
              "  </thead>\n",
              "  <tbody>\n",
              "    <tr>\n",
              "      <th>0</th>\n",
              "      <td>Coloring book moana</td>\n",
              "      <td>ART_AND_DESIGN</td>\n",
              "      <td>3.9</td>\n",
              "      <td>967</td>\n",
              "      <td>500000</td>\n",
              "      <td>Free</td>\n",
              "      <td>Everyone</td>\n",
              "      <td>Art &amp; Design;Pretend Play</td>\n",
              "      <td>0.272727</td>\n",
              "      <td>0.152652</td>\n",
              "      <td>0.641540</td>\n",
              "    </tr>\n",
              "    <tr>\n",
              "      <th>1</th>\n",
              "      <td>Garden Coloring Book</td>\n",
              "      <td>ART_AND_DESIGN</td>\n",
              "      <td>4.4</td>\n",
              "      <td>13791</td>\n",
              "      <td>1000000</td>\n",
              "      <td>Free</td>\n",
              "      <td>Everyone</td>\n",
              "      <td>Art &amp; Design</td>\n",
              "      <td>0.600000</td>\n",
              "      <td>0.268483</td>\n",
              "      <td>0.523447</td>\n",
              "    </tr>\n",
              "    <tr>\n",
              "      <th>2</th>\n",
              "      <td>FlipaClip - Cartoon animation</td>\n",
              "      <td>ART_AND_DESIGN</td>\n",
              "      <td>4.3</td>\n",
              "      <td>194216</td>\n",
              "      <td>5000000</td>\n",
              "      <td>Free</td>\n",
              "      <td>Everyone</td>\n",
              "      <td>Art &amp; Design</td>\n",
              "      <td>1.000000</td>\n",
              "      <td>0.412649</td>\n",
              "      <td>0.679226</td>\n",
              "    </tr>\n",
              "    <tr>\n",
              "      <th>3</th>\n",
              "      <td>Boys Photo Editor - Six Pack &amp; Men's Suit</td>\n",
              "      <td>ART_AND_DESIGN</td>\n",
              "      <td>4.1</td>\n",
              "      <td>654</td>\n",
              "      <td>100000</td>\n",
              "      <td>Free</td>\n",
              "      <td>Everyone</td>\n",
              "      <td>Art &amp; Design</td>\n",
              "      <td>0.473684</td>\n",
              "      <td>0.283509</td>\n",
              "      <td>0.479298</td>\n",
              "    </tr>\n",
              "    <tr>\n",
              "      <th>4</th>\n",
              "      <td>Colorfit - Drawing &amp; Coloring</td>\n",
              "      <td>ART_AND_DESIGN</td>\n",
              "      <td>4.7</td>\n",
              "      <td>20260</td>\n",
              "      <td>500000</td>\n",
              "      <td>Free</td>\n",
              "      <td>Everyone</td>\n",
              "      <td>Art &amp; Design;Creativity</td>\n",
              "      <td>0.552632</td>\n",
              "      <td>0.171836</td>\n",
              "      <td>0.572762</td>\n",
              "    </tr>\n",
              "  </tbody>\n",
              "</table>\n",
              "</div>"
            ],
            "text/plain": [
              "                                         App  ... Subjectivity\n",
              "0                        Coloring book moana  ...     0.641540\n",
              "1                       Garden Coloring Book  ...     0.523447\n",
              "2              FlipaClip - Cartoon animation  ...     0.679226\n",
              "3  Boys Photo Editor - Six Pack & Men's Suit  ...     0.479298\n",
              "4              Colorfit - Drawing & Coloring  ...     0.572762\n",
              "\n",
              "[5 rows x 11 columns]"
            ]
          },
          "metadata": {
            "tags": []
          },
          "execution_count": 17
        }
      ]
    },
    {
      "cell_type": "markdown",
      "metadata": {
        "id": "_5kj5xSH1TmG"
      },
      "source": [
        "### Analyzing"
      ]
    },
    {
      "cell_type": "markdown",
      "metadata": {
        "id": "ixylr-LE1qul"
      },
      "source": [
        "First of all, let's establish some initial hypothesis. Those can be things that seems logical before looking into the data or a initial guess.\n",
        "\n",
        "1.   The sentiment influences the final rating of the app;\n",
        "2.   Paid content will have better rating;\n",
        "3.   Popular categories have more positive sentiment.\n",
        "\n"
      ]
    },
    {
      "cell_type": "markdown",
      "metadata": {
        "id": "n1NR9Tz36d5a"
      },
      "source": [
        "#### Sentiment and Rating"
      ]
    },
    {
      "cell_type": "markdown",
      "metadata": {
        "id": "Gd5A-PXb6hEv"
      },
      "source": [
        "First, let's check how our data is now. For that, we want to see the histograms for Sentiment and for Rating. If our hypothesis is true, if there are a lot of high values for sentiment, there will be a lot of high values for rating also."
      ]
    },
    {
      "cell_type": "code",
      "metadata": {
        "id": "73NMCayT_7AQ",
        "outputId": "f4087c7a-a9b2-4679-e1fa-ccae40b356a2",
        "colab": {
          "base_uri": "https://localhost:8080/",
          "height": 419
        }
      },
      "source": [
        "# Create the plot for the histograms\n",
        "fig, ax = plt.subplots(nrows=1, ncols=2, figsize=(12, 6), sharey=True)\n",
        "\n",
        "# Create the histograms\n",
        "ax[0].hist(complete_data.Sentiment, bins=20)\n",
        "ax[1].hist(complete_data.Rating, bins=20)\n",
        "ax[1].set_xlim(0, 5)\n",
        "\n",
        "# Add titles\n",
        "ax[0].set_title(\"Sentiment\")\n",
        "ax[1].set_title(\"Rating\")\n",
        "\n",
        "plt.show()"
      ],
      "execution_count": 54,
      "outputs": [
        {
          "output_type": "display_data",
          "data": {
            "image/png": "[encoded data removed]",
            "text/plain": [
              "<Figure size 864x432 with 2 Axes>"
            ]
          },
          "metadata": {
            "tags": []
          }
        }
      ]
    },
    {
      "cell_type": "markdown",
      "metadata": {
        "id": "bGhq6us9CJqu"
      },
      "source": [
        "Looking at the histograms, we can see a positive trend for both columns. In the Sentiment aspect, the majority of the values are above neutral (0), at around 0,5 for a range of -1 to 1. But for the Rating column, this trend looks way more significant, with a lot of the values being around 4 and 5 for a range of 0 to 5."
      ]
    },
    {
      "cell_type": "code",
      "metadata": {
        "id": "y0cZs6TIgRTu",
        "outputId": "5672a0b5-0236-4b59-8af1-b8ec63f253c9",
        "colab": {
          "base_uri": "https://localhost:8080/",
          "height": 51
        }
      },
      "source": [
        "sentiment_median = np.median(complete_data.Sentiment)\n",
        "rating_median = np.median(complete_data.Rating)\n",
        "\n",
        "print(\"\\tSentiment median: {}\\n\\tRating median: {}\".format(sentiment_median, rating_median))"
      ],
      "execution_count": 51,
      "outputs": [
        {
          "output_type": "stream",
          "text": [
            "\tSentiment median: 0.47987117552334946\n",
            "\tRating median: 4.3\n"
          ],
          "name": "stdout"
        }
      ]
    },
    {
      "cell_type": "markdown",
      "metadata": {
        "id": "HvM5qXL_g1o1"
      },
      "source": [
        "The median, as seen above, can help to visualize it.\n",
        "\n",
        "As a second resource, we can plot a line graphic of Sentiment by Rating and see the behavior of the line. If the sentiment influences the rating, we could expect a close to straight line moving upwards."
      ]
    },
    {
      "cell_type": "code",
      "metadata": {
        "id": "kHByiqgShXTC",
        "outputId": "69b48d57-af13-4740-8a4d-696900b34a25",
        "colab": {
          "base_uri": "https://localhost:8080/",
          "height": 482
        }
      },
      "source": [
        "complete_data.plot(\"Sentiment\", \"Rating\", kind=\"scatter\", figsize=(8, 7))\n",
        "\n",
        "plt.show()"
      ],
      "execution_count": 60,
      "outputs": [
        {
          "output_type": "display_data",
          "data": {
            "image/png": "[encoded data removed]",
            "text/plain": [
              "<Figure size 576x504 with 1 Axes>"
            ]
          },
          "metadata": {
            "tags": []
          }
        }
      ]
    },
    {
      "cell_type": "markdown",
      "metadata": {
        "id": "1XrApZSrlhuo"
      },
      "source": [
        "#### Paid content and Rating"
      ]
    },
    {
      "cell_type": "markdown",
      "metadata": {
        "id": "GbzwGMQrlpiB"
      },
      "source": [
        "First, let's separate the content types (free and paid)."
      ]
    },
    {
      "cell_type": "code",
      "metadata": {
        "id": "YAEw-ASormeg",
        "outputId": "fa4babbf-653a-4f4d-f538-8f618234699c",
        "colab": {
          "base_uri": "https://localhost:8080/",
          "height": 328
        }
      },
      "source": [
        "# Separate by Type\n",
        "free = complete_data.loc[complete_data.Type == \"Free\"].copy()\n",
        "paid = complete_data.loc[complete_data.Type == \"Paid\"].copy()\n",
        "\n",
        "paid"
      ],
      "execution_count": 21,
      "outputs": [
        {
          "output_type": "execute_result",
          "data": {
            "text/html": [
              "<div>\n",
              "<style scoped>\n",
              "    .dataframe tbody tr th:only-of-type {\n",
              "        vertical-align: middle;\n",
              "    }\n",
              "\n",
              "    .dataframe tbody tr th {\n",
              "        vertical-align: top;\n",
              "    }\n",
              "\n",
              "    .dataframe thead th {\n",
              "        text-align: right;\n",
              "    }\n",
              "</style>\n",
              "<table border=\"1\" class=\"dataframe\">\n",
              "  <thead>\n",
              "    <tr style=\"text-align: right;\">\n",
              "      <th></th>\n",
              "      <th>App</th>\n",
              "      <th>Category</th>\n",
              "      <th>Rating</th>\n",
              "      <th>Reviews</th>\n",
              "      <th>Installs</th>\n",
              "      <th>Type</th>\n",
              "      <th>Content Rating</th>\n",
              "      <th>Genres</th>\n",
              "      <th>Sentiment</th>\n",
              "      <th>Polarity</th>\n",
              "      <th>Subjectivity</th>\n",
              "    </tr>\n",
              "  </thead>\n",
              "  <tbody>\n",
              "    <tr>\n",
              "      <th>369</th>\n",
              "      <td>Farming Simulator 18</td>\n",
              "      <td>GAME</td>\n",
              "      <td>4.5</td>\n",
              "      <td>18125</td>\n",
              "      <td>100000</td>\n",
              "      <td>Paid</td>\n",
              "      <td>Everyone</td>\n",
              "      <td>Simulation;Education</td>\n",
              "      <td>0.282051</td>\n",
              "      <td>0.064467</td>\n",
              "      <td>0.493330</td>\n",
              "    </tr>\n",
              "    <tr>\n",
              "      <th>370</th>\n",
              "      <td>Call of Duty:Black Ops Zombies</td>\n",
              "      <td>GAME</td>\n",
              "      <td>4.2</td>\n",
              "      <td>13004</td>\n",
              "      <td>100000</td>\n",
              "      <td>Paid</td>\n",
              "      <td>Teen</td>\n",
              "      <td>Action</td>\n",
              "      <td>-1.000000</td>\n",
              "      <td>-0.162120</td>\n",
              "      <td>0.442716</td>\n",
              "    </tr>\n",
              "    <tr>\n",
              "      <th>438</th>\n",
              "      <td>Dr. Panda &amp; Toto's Treehouse</td>\n",
              "      <td>FAMILY</td>\n",
              "      <td>4.4</td>\n",
              "      <td>3396</td>\n",
              "      <td>50000</td>\n",
              "      <td>Paid</td>\n",
              "      <td>Everyone</td>\n",
              "      <td>Casual;Pretend Play</td>\n",
              "      <td>0.611111</td>\n",
              "      <td>0.180237</td>\n",
              "      <td>0.532672</td>\n",
              "    </tr>\n",
              "    <tr>\n",
              "      <th>445</th>\n",
              "      <td>Essential Anatomy 3</td>\n",
              "      <td>MEDICAL</td>\n",
              "      <td>4.1</td>\n",
              "      <td>1533</td>\n",
              "      <td>50000</td>\n",
              "      <td>Paid</td>\n",
              "      <td>Mature 17+</td>\n",
              "      <td>Medical</td>\n",
              "      <td>0.750000</td>\n",
              "      <td>0.225516</td>\n",
              "      <td>0.522328</td>\n",
              "    </tr>\n",
              "    <tr>\n",
              "      <th>446</th>\n",
              "      <td>Diabetes &amp; Diet Tracker</td>\n",
              "      <td>MEDICAL</td>\n",
              "      <td>4.6</td>\n",
              "      <td>395</td>\n",
              "      <td>1000</td>\n",
              "      <td>Paid</td>\n",
              "      <td>Everyone</td>\n",
              "      <td>Medical</td>\n",
              "      <td>0.837838</td>\n",
              "      <td>0.363627</td>\n",
              "      <td>0.568469</td>\n",
              "    </tr>\n",
              "    <tr>\n",
              "      <th>565</th>\n",
              "      <td>Golfshot Plus: Golf GPS</td>\n",
              "      <td>SPORTS</td>\n",
              "      <td>4.1</td>\n",
              "      <td>3387</td>\n",
              "      <td>50000</td>\n",
              "      <td>Paid</td>\n",
              "      <td>Everyone</td>\n",
              "      <td>Sports</td>\n",
              "      <td>0.675000</td>\n",
              "      <td>0.386179</td>\n",
              "      <td>0.475312</td>\n",
              "    </tr>\n",
              "    <tr>\n",
              "      <th>680</th>\n",
              "      <td>Beautiful Widgets Pro</td>\n",
              "      <td>PERSONALIZATION</td>\n",
              "      <td>4.2</td>\n",
              "      <td>97890</td>\n",
              "      <td>1000000</td>\n",
              "      <td>Paid</td>\n",
              "      <td>Everyone</td>\n",
              "      <td>Personalization</td>\n",
              "      <td>0.675676</td>\n",
              "      <td>0.179418</td>\n",
              "      <td>0.501691</td>\n",
              "    </tr>\n",
              "    <tr>\n",
              "      <th>682</th>\n",
              "      <td>HD Widgets</td>\n",
              "      <td>PERSONALIZATION</td>\n",
              "      <td>4.3</td>\n",
              "      <td>58617</td>\n",
              "      <td>1000000</td>\n",
              "      <td>Paid</td>\n",
              "      <td>Everyone</td>\n",
              "      <td>Personalization</td>\n",
              "      <td>0.483871</td>\n",
              "      <td>0.181818</td>\n",
              "      <td>0.513802</td>\n",
              "    </tr>\n",
              "    <tr>\n",
              "      <th>694</th>\n",
              "      <td>BIG Launcher</td>\n",
              "      <td>PERSONALIZATION</td>\n",
              "      <td>4.3</td>\n",
              "      <td>881</td>\n",
              "      <td>10000</td>\n",
              "      <td>Paid</td>\n",
              "      <td>Everyone</td>\n",
              "      <td>Personalization</td>\n",
              "      <td>0.525000</td>\n",
              "      <td>0.184987</td>\n",
              "      <td>0.410125</td>\n",
              "    </tr>\n",
              "  </tbody>\n",
              "</table>\n",
              "</div>"
            ],
            "text/plain": [
              "                                App         Category  ...  Polarity Subjectivity\n",
              "369            Farming Simulator 18             GAME  ...  0.064467     0.493330\n",
              "370  Call of Duty:Black Ops Zombies             GAME  ... -0.162120     0.442716\n",
              "438    Dr. Panda & Toto's Treehouse           FAMILY  ...  0.180237     0.532672\n",
              "445             Essential Anatomy 3          MEDICAL  ...  0.225516     0.522328\n",
              "446         Diabetes & Diet Tracker          MEDICAL  ...  0.363627     0.568469\n",
              "565         Golfshot Plus: Golf GPS           SPORTS  ...  0.386179     0.475312\n",
              "680           Beautiful Widgets Pro  PERSONALIZATION  ...  0.179418     0.501691\n",
              "682                      HD Widgets  PERSONALIZATION  ...  0.181818     0.513802\n",
              "694                    BIG Launcher  PERSONALIZATION  ...  0.184987     0.410125\n",
              "\n",
              "[9 rows x 11 columns]"
            ]
          },
          "metadata": {
            "tags": []
          },
          "execution_count": 21
        }
      ]
    },
    {
      "cell_type": "markdown",
      "metadata": {
        "id": "7L2dqbzKu4Nm"
      },
      "source": [
        "Now we can get the mean for each category."
      ]
    },
    {
      "cell_type": "code",
      "metadata": {
        "id": "a3wmJ30Ku7Ae",
        "outputId": "793a4220-8a35-4cb5-fdee-caa221ad1bfe",
        "colab": {
          "base_uri": "https://localhost:8080/",
          "height": 51
        }
      },
      "source": [
        "# Obtain the means\n",
        "free_mean = free.Rating.mean()\n",
        "paid_mean = paid.Rating.mean()\n",
        "\n",
        "print(\"\\tFree content mean: {}\\n\\tPaid content mean: {}\".format(free_mean, paid_mean))"
      ],
      "execution_count": 55,
      "outputs": [
        {
          "output_type": "stream",
          "text": [
            "\tFree content mean: 4.282403965303592\n",
            "\tPaid content mean: 4.3\n"
          ],
          "name": "stdout"
        }
      ]
    },
    {
      "cell_type": "markdown",
      "metadata": {
        "id": "_HjpjIGYDRaH"
      },
      "source": [
        "As we can see, the mean for paid content is just slightly above the mean for free content. But the difference do not appear to be enough to support our hypothesis. Also, there are only 9 paid apps, what may mislead the information due to low number of observations."
      ]
    },
    {
      "cell_type": "markdown",
      "metadata": {
        "id": "9yWaBpvDlrW9"
      },
      "source": [
        "#### Popular categories and Sentiment"
      ]
    },
    {
      "cell_type": "markdown",
      "metadata": {
        "id": "KMC95QAHlw-3"
      },
      "source": [
        "In our dataset, we have the column Installs, containing the number of times that app was installedby grouping it and ordering, we obtain the rank of popularity for the categories."
      ]
    },
    {
      "cell_type": "code",
      "metadata": {
        "id": "5LIO3qkeYeEB",
        "outputId": "8318652b-014c-4c47-dfa0-79e00140a0b8",
        "colab": {
          "base_uri": "https://localhost:8080/",
          "height": 204
        }
      },
      "source": [
        "sentiment_by_installs = complete_data.groupby(\"Category\").agg({\"Installs\": \"sum\", \"Sentiment\": \"mean\"})\n",
        "sentiment_by_installs = sentiment_by_installs.sort_values(by=\"Installs\").reset_index().copy()\n",
        "\n",
        "sentiment_by_installs.head()"
      ],
      "execution_count": 23,
      "outputs": [
        {
          "output_type": "execute_result",
          "data": {
            "text/html": [
              "<div>\n",
              "<style scoped>\n",
              "    .dataframe tbody tr th:only-of-type {\n",
              "        vertical-align: middle;\n",
              "    }\n",
              "\n",
              "    .dataframe tbody tr th {\n",
              "        vertical-align: top;\n",
              "    }\n",
              "\n",
              "    .dataframe thead th {\n",
              "        text-align: right;\n",
              "    }\n",
              "</style>\n",
              "<table border=\"1\" class=\"dataframe\">\n",
              "  <thead>\n",
              "    <tr style=\"text-align: right;\">\n",
              "      <th></th>\n",
              "      <th>Category</th>\n",
              "      <th>Installs</th>\n",
              "      <th>Sentiment</th>\n",
              "    </tr>\n",
              "  </thead>\n",
              "  <tbody>\n",
              "    <tr>\n",
              "      <th>0</th>\n",
              "      <td>COMICS</td>\n",
              "      <td>1010000</td>\n",
              "      <td>0.757143</td>\n",
              "    </tr>\n",
              "    <tr>\n",
              "      <th>1</th>\n",
              "      <td>EVENTS</td>\n",
              "      <td>1310000</td>\n",
              "      <td>0.708385</td>\n",
              "    </tr>\n",
              "    <tr>\n",
              "      <th>2</th>\n",
              "      <td>PARENTING</td>\n",
              "      <td>5200000</td>\n",
              "      <td>0.666058</td>\n",
              "    </tr>\n",
              "    <tr>\n",
              "      <th>3</th>\n",
              "      <td>MAPS_AND_NAVIGATION</td>\n",
              "      <td>11000000</td>\n",
              "      <td>0.595374</td>\n",
              "    </tr>\n",
              "    <tr>\n",
              "      <th>4</th>\n",
              "      <td>BEAUTY</td>\n",
              "      <td>12200000</td>\n",
              "      <td>0.408459</td>\n",
              "    </tr>\n",
              "  </tbody>\n",
              "</table>\n",
              "</div>"
            ],
            "text/plain": [
              "              Category  Installs  Sentiment\n",
              "0               COMICS   1010000   0.757143\n",
              "1               EVENTS   1310000   0.708385\n",
              "2            PARENTING   5200000   0.666058\n",
              "3  MAPS_AND_NAVIGATION  11000000   0.595374\n",
              "4               BEAUTY  12200000   0.408459"
            ]
          },
          "metadata": {
            "tags": []
          },
          "execution_count": 23
        }
      ]
    },
    {
      "cell_type": "code",
      "metadata": {
        "id": "cmR4qAYtrJQi",
        "outputId": "dfe38623-0790-476c-cdd8-e9df02784b10",
        "colab": {
          "base_uri": "https://localhost:8080/",
          "height": 492
        }
      },
      "source": [
        "# Create the plot\n",
        "fig, ax = plt.subplots(nrows=1, ncols=1, figsize=(8, 7))\n",
        "\n",
        "# Create the list of colors for the gradient\n",
        "colors = list(Color(\"blue\").range_to(Color(\"cyan\"), 100))\n",
        "sentiments = []\n",
        "popularity = []\n",
        "colorMap = []\n",
        "\n",
        "# Since there are only 32 observations, we need to expand it evenly to have a precise gradient line\n",
        "for ii in range(0, sentiment_by_installs.Sentiment.count() - 1):\n",
        "  new_s = np.linspace(sentiment_by_installs.Sentiment[ii], sentiment_by_installs.Sentiment[ii + 1], num=20)\n",
        "  new_p = np.linspace(sentiment_by_installs.index[ii], sentiment_by_installs.index[ii + 1], num=20)\n",
        "  for jj in range(0, len(new_s)):\n",
        "    sentiments.append(new_s[jj])\n",
        "    popularity.append(new_p[jj])\n",
        "\n",
        "# Find the min and max values for normalization\n",
        "max = np.max(sentiments)\n",
        "min = np.min(sentiments)\n",
        "\n",
        "# Normalize the y axis\n",
        "normalized = [(value - min)/(max - min) for value in sentiments]\n",
        "\n",
        "# Assign a color to each value of y\n",
        "for value in normalized:\n",
        "    colorMap.append(colors[np.abs(int((100*value)) - 1)].hex)\n",
        "\n",
        "# Plot a line between each point with the corresponding color\n",
        "for kk in range(0, len(sentiments) - 1):\n",
        "  x = [popularity[kk], popularity[kk+1]]\n",
        "  y = [sentiments[kk], sentiments[kk+1]]\n",
        "  ax.plot(x, y, colorMap[kk], linewidth=4, zorder=2)\n",
        "\n",
        "# Create legends, limits and title\n",
        "ax.set_ylim(0, 1)\n",
        "ax.set_title(\"Sentiment x Popularity of Google Play Store Apps Review\", fontsize=14)\n",
        "ax.set_xlabel(\"Popularity Ranking\", fontsize=14)\n",
        "ax.set_ylabel(\"Sentiment\", fontsize=14)\n",
        "\n",
        "plt.show()"
      ],
      "execution_count": 59,
      "outputs": [
        {
          "output_type": "display_data",
          "data": {
            "image/png": "[encoded data removed]",
            "text/plain": [
              "<Figure size 576x504 with 1 Axes>"
            ]
          },
          "metadata": {
            "tags": []
          }
        }
      ]
    },
    {
      "cell_type": "markdown",
      "metadata": {
        "id": "vhMG4qV8lxay"
      },
      "source": [
        "### Results"
      ]
    },
    {
      "cell_type": "markdown",
      "metadata": {
        "id": "i32GHIF4l1hO"
      },
      "source": [
        "All of our three hypothesis were somehow observed in the analysis section. Since we are only trying to see the macro state of the data to guess things about it, without using any real information test or inference, we can't make any assumption. Still, the work in this project can help to create better hypothesis."
      ]
    },
    {
      "cell_type": "markdown",
      "metadata": {
        "id": "GJlw2-fnpLha"
      },
      "source": [
        "\n",
        "\n",
        "*   **Hypothesis 1**: the histograms point at some link between sentiment and rating but it may be due to similar causalities and not due to correlation between those two variables. The scatter plot created after do not add any new information, keeping our guess from the histograms.\n",
        "*   **Hypothesis 2**: due to the low number of observations for the paid category, this dataset is not suitable to answer our hypothesis. Analyzing the means, there is no significant difference between them.\n",
        "*   **Hypothesis 3**: observing the graphic created, there is no clear information to be obtained. There are fewer appearences of higher sentiment values as the popularity rank goes lower, what could help our initial hypothesis. \n",
        "\n"
      ]
    },
    {
      "cell_type": "markdown",
      "metadata": {
        "id": "WtF974m_l15Z"
      },
      "source": [
        "### Next"
      ]
    },
    {
      "cell_type": "markdown",
      "metadata": {
        "id": "2w494Dlll3LC"
      },
      "source": [
        ""
      ]
    },
    {
      "cell_type": "markdown",
      "metadata": {
        "id": "XS3WvDxolzTU"
      },
      "source": [
        "### References"
      ]
    },
    {
      "cell_type": "markdown",
      "metadata": {
        "id": "CnjevCN5l38v"
      },
      "source": [
        ""
      ]
    }
  ]
}